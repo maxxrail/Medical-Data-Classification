{
  "nbformat": 4,
  "nbformat_minor": 0,
  "metadata": {
    "colab": {
      "provenance": []
    },
    "kernelspec": {
      "name": "python3",
      "display_name": "Python 3"
    },
    "language_info": {
      "name": "python"
    }
  },
  "cells": [
    {
      "cell_type": "markdown",
      "source": [
        "# NHANES age prediction.csv"
      ],
      "metadata": {
        "id": "qbr05LLQNl0U"
      }
    },
    {
      "cell_type": "markdown",
      "source": [
        "## Data Preprocessing (NHANES age prediction.csv)"
      ],
      "metadata": {
        "id": "M8E_-9AhFM2z"
      }
    },
    {
      "cell_type": "code",
      "execution_count": 115,
      "metadata": {
        "id": "tApMoV-D_wRZ",
        "colab": {
          "base_uri": "https://localhost:8080/"
        },
        "outputId": "1be2c783-c998-42c2-e3fc-9fc250ffd2db"
      },
      "outputs": [
        {
          "output_type": "stream",
          "name": "stdout",
          "text": [
            "Requirement already satisfied: ucimlrepo in /usr/local/lib/python3.10/dist-packages (0.0.3)\n"
          ]
        }
      ],
      "source": [
        "import pandas as pd\n",
        "import numpy as np\n",
        "import matplotlib.pyplot as plt\n",
        "from sklearn.metrics import roc_curve, roc_auc_score #sklearn for ROC only\n",
        "import random\n",
        "!pip install ucimlrepo\n",
        "\n",
        "random.seed(110)\n",
        "np.random.seed(110)"
      ]
    },
    {
      "cell_type": "code",
      "source": [
        "from ucimlrepo import fetch_ucirepo\n",
        "\n",
        "# fetch dataset\n",
        "national_health_and_nutrition_health_survey_2013_2014_nhanes_age_prediction_subset = fetch_ucirepo(id=887)\n",
        "\n",
        "# data (as pandas dataframes)\n",
        "X = national_health_and_nutrition_health_survey_2013_2014_nhanes_age_prediction_subset.data.features\n",
        "y = national_health_and_nutrition_health_survey_2013_2014_nhanes_age_prediction_subset.data.targets\n",
        "\n",
        "# metadata\n",
        "print(national_health_and_nutrition_health_survey_2013_2014_nhanes_age_prediction_subset.metadata)\n",
        "\n",
        "# variable information\n",
        "print(national_health_and_nutrition_health_survey_2013_2014_nhanes_age_prediction_subset.variables)\n",
        "y"
      ],
      "metadata": {
        "colab": {
          "base_uri": "https://localhost:8080/",
          "height": 860
        },
        "id": "RTKyMzHa_b0j",
        "outputId": "1b481897-2088-446b-cbd1-b1e1496bb8d0"
      },
      "execution_count": 116,
      "outputs": [
        {
          "output_type": "stream",
          "name": "stdout",
          "text": [
            "{'uci_id': 887, 'name': 'National Health and Nutrition Health Survey 2013-2014 (NHANES) Age Prediction Subset', 'repository_url': 'https://archive.ics.uci.edu/dataset/887/national+health+and+nutrition+health+survey+2013-2014+(nhanes)+age+prediction+subset', 'data_url': 'https://archive.ics.uci.edu/static/public/887/data.csv', 'abstract': \"The National Health and Nutrition Examination Survey (NHANES), administered by the Centers for Disease Control and Prevention (CDC), collects extensive health and nutritional information from a diverse U.S. population. Though expansive, the dataset is often too broad for specific analytical purposes. In this sub-dataset, we narrow our focus to predicting respondents' age by extracting a subset of features from the larger NHANES dataset. These selected features include physiological measurements, lifestyle choices, and biochemical markers, which were hypothesized to have strong correlations with age.\", 'area': 'Health and Medicine', 'tasks': ['Classification'], 'characteristics': ['Tabular'], 'num_instances': 6287, 'num_features': 7, 'feature_types': ['Real', 'Categorical', 'Integer'], 'demographics': ['Age', 'Gender'], 'target_col': ['age_group'], 'index_col': ['SEQN'], 'has_missing_values': 'no', 'missing_values_symbol': None, 'year_of_dataset_creation': 2019, 'last_updated': 'Fri Nov 03 2023', 'dataset_doi': '10.24432/C5BS66', 'creators': ['NA NA'], 'intro_paper': {'title': 'A data-driven approach to predicting diabetes and cardiovascular disease with machine learning', 'authors': 'An Dinh, Stacey Miertschin, Amber Young, S. Mohanty', 'published_in': 'BMC Medical Informatics and Decision Making', 'year': 2019, 'url': 'https://www.semanticscholar.org/paper/01af1548ff1f3661d8bb813e8c35ee219a79ca9f', 'doi': None}, 'additional_info': {'summary': 'The original full dataset can be found at:\\n\\nhttps://wwwn.cdc.gov/nchs/nhanes/search/DataPage.aspx?Component=Questionnaire&CycleBeginYear=2013', 'purpose': 'The NHANES dataset was created to assess the health and nutritional status of adults and children in the United States. \\n', 'funded_by': 'Centers for Disease Control and Prevention (CDC), specifically through its National Center for Health Statistics (NCHS)\\n', 'instances_represent': 'Survey respondents throughout the United States\\n\\nData was gathered through interviews, physical examinations, and laboratory tests.', 'recommended_data_splits': None, 'sensitive_data': None, 'preprocessing_description': 'For this subset respondents 65 years old and older were labeled  as “senior” and all individuals under 65 years old as “non-senior.”\\n', 'variable_info': None, 'citation': 'Please acknowledge the National Center for Health Statistics (NCHS) at the Centers for Disease Control and Prevention (CDC)'}}\n",
            "        name     role         type demographic  \\\n",
            "0       SEQN       ID   Continuous        None   \n",
            "1  age_group   Target  Categorical         Age   \n",
            "2   RIDAGEYR    Other   Continuous         Age   \n",
            "3   RIAGENDR  Feature   Continuous      Gender   \n",
            "4     PAQ605  Feature   Continuous        None   \n",
            "5     BMXBMI  Feature   Continuous        None   \n",
            "6     LBXGLU  Feature   Continuous        None   \n",
            "7     DIQ010  Feature   Continuous        None   \n",
            "8     LBXGLT  Feature   Continuous        None   \n",
            "9      LBXIN  Feature   Continuous        None   \n",
            "\n",
            "                                         description units missing_values  \n",
            "0                         Respondent Sequence Number  None             no  \n",
            "1         Respondent's Age Group (senior/non-senior)  None             no  \n",
            "2                                   Respondent's Age  None             no  \n",
            "3                                Respondent's Gender  None             no  \n",
            "4  If the respondent engages in moderate or vigor...  None             no  \n",
            "5                       Respondent's Body Mass Index  None             no  \n",
            "6           Respondent's Blood Glucose after fasting  None             no  \n",
            "7                      If the Respondent is diabetic  None             no  \n",
            "8                                 Respondent's Oral   None             no  \n",
            "9                  Respondent's Blood Insulin Levels  None             no  \n"
          ]
        },
        {
          "output_type": "execute_result",
          "data": {
            "text/plain": [
              "     age_group\n",
              "0        Adult\n",
              "1        Adult\n",
              "2        Adult\n",
              "3        Adult\n",
              "4        Adult\n",
              "...        ...\n",
              "2273     Adult\n",
              "2274     Adult\n",
              "2275     Adult\n",
              "2276     Adult\n",
              "2277     Adult\n",
              "\n",
              "[2278 rows x 1 columns]"
            ],
            "text/html": [
              "\n",
              "  <div id=\"df-659a4f3c-5c98-451f-9b8d-14d51acc772b\" class=\"colab-df-container\">\n",
              "    <div>\n",
              "<style scoped>\n",
              "    .dataframe tbody tr th:only-of-type {\n",
              "        vertical-align: middle;\n",
              "    }\n",
              "\n",
              "    .dataframe tbody tr th {\n",
              "        vertical-align: top;\n",
              "    }\n",
              "\n",
              "    .dataframe thead th {\n",
              "        text-align: right;\n",
              "    }\n",
              "</style>\n",
              "<table border=\"1\" class=\"dataframe\">\n",
              "  <thead>\n",
              "    <tr style=\"text-align: right;\">\n",
              "      <th></th>\n",
              "      <th>age_group</th>\n",
              "    </tr>\n",
              "  </thead>\n",
              "  <tbody>\n",
              "    <tr>\n",
              "      <th>0</th>\n",
              "      <td>Adult</td>\n",
              "    </tr>\n",
              "    <tr>\n",
              "      <th>1</th>\n",
              "      <td>Adult</td>\n",
              "    </tr>\n",
              "    <tr>\n",
              "      <th>2</th>\n",
              "      <td>Adult</td>\n",
              "    </tr>\n",
              "    <tr>\n",
              "      <th>3</th>\n",
              "      <td>Adult</td>\n",
              "    </tr>\n",
              "    <tr>\n",
              "      <th>4</th>\n",
              "      <td>Adult</td>\n",
              "    </tr>\n",
              "    <tr>\n",
              "      <th>...</th>\n",
              "      <td>...</td>\n",
              "    </tr>\n",
              "    <tr>\n",
              "      <th>2273</th>\n",
              "      <td>Adult</td>\n",
              "    </tr>\n",
              "    <tr>\n",
              "      <th>2274</th>\n",
              "      <td>Adult</td>\n",
              "    </tr>\n",
              "    <tr>\n",
              "      <th>2275</th>\n",
              "      <td>Adult</td>\n",
              "    </tr>\n",
              "    <tr>\n",
              "      <th>2276</th>\n",
              "      <td>Adult</td>\n",
              "    </tr>\n",
              "    <tr>\n",
              "      <th>2277</th>\n",
              "      <td>Adult</td>\n",
              "    </tr>\n",
              "  </tbody>\n",
              "</table>\n",
              "<p>2278 rows × 1 columns</p>\n",
              "</div>\n",
              "    <div class=\"colab-df-buttons\">\n",
              "\n",
              "  <div class=\"colab-df-container\">\n",
              "    <button class=\"colab-df-convert\" onclick=\"convertToInteractive('df-659a4f3c-5c98-451f-9b8d-14d51acc772b')\"\n",
              "            title=\"Convert this dataframe to an interactive table.\"\n",
              "            style=\"display:none;\">\n",
              "\n",
              "  <svg xmlns=\"http://www.w3.org/2000/svg\" height=\"24px\" viewBox=\"0 -960 960 960\">\n",
              "    <path d=\"M120-120v-720h720v720H120Zm60-500h600v-160H180v160Zm220 220h160v-160H400v160Zm0 220h160v-160H400v160ZM180-400h160v-160H180v160Zm440 0h160v-160H620v160ZM180-180h160v-160H180v160Zm440 0h160v-160H620v160Z\"/>\n",
              "  </svg>\n",
              "    </button>\n",
              "\n",
              "  <style>\n",
              "    .colab-df-container {\n",
              "      display:flex;\n",
              "      gap: 12px;\n",
              "    }\n",
              "\n",
              "    .colab-df-convert {\n",
              "      background-color: #E8F0FE;\n",
              "      border: none;\n",
              "      border-radius: 50%;\n",
              "      cursor: pointer;\n",
              "      display: none;\n",
              "      fill: #1967D2;\n",
              "      height: 32px;\n",
              "      padding: 0 0 0 0;\n",
              "      width: 32px;\n",
              "    }\n",
              "\n",
              "    .colab-df-convert:hover {\n",
              "      background-color: #E2EBFA;\n",
              "      box-shadow: 0px 1px 2px rgba(60, 64, 67, 0.3), 0px 1px 3px 1px rgba(60, 64, 67, 0.15);\n",
              "      fill: #174EA6;\n",
              "    }\n",
              "\n",
              "    .colab-df-buttons div {\n",
              "      margin-bottom: 4px;\n",
              "    }\n",
              "\n",
              "    [theme=dark] .colab-df-convert {\n",
              "      background-color: #3B4455;\n",
              "      fill: #D2E3FC;\n",
              "    }\n",
              "\n",
              "    [theme=dark] .colab-df-convert:hover {\n",
              "      background-color: #434B5C;\n",
              "      box-shadow: 0px 1px 3px 1px rgba(0, 0, 0, 0.15);\n",
              "      filter: drop-shadow(0px 1px 2px rgba(0, 0, 0, 0.3));\n",
              "      fill: #FFFFFF;\n",
              "    }\n",
              "  </style>\n",
              "\n",
              "    <script>\n",
              "      const buttonEl =\n",
              "        document.querySelector('#df-659a4f3c-5c98-451f-9b8d-14d51acc772b button.colab-df-convert');\n",
              "      buttonEl.style.display =\n",
              "        google.colab.kernel.accessAllowed ? 'block' : 'none';\n",
              "\n",
              "      async function convertToInteractive(key) {\n",
              "        const element = document.querySelector('#df-659a4f3c-5c98-451f-9b8d-14d51acc772b');\n",
              "        const dataTable =\n",
              "          await google.colab.kernel.invokeFunction('convertToInteractive',\n",
              "                                                    [key], {});\n",
              "        if (!dataTable) return;\n",
              "\n",
              "        const docLinkHtml = 'Like what you see? Visit the ' +\n",
              "          '<a target=\"_blank\" href=https://colab.research.google.com/notebooks/data_table.ipynb>data table notebook</a>'\n",
              "          + ' to learn more about interactive tables.';\n",
              "        element.innerHTML = '';\n",
              "        dataTable['output_type'] = 'display_data';\n",
              "        await google.colab.output.renderOutput(dataTable, element);\n",
              "        const docLink = document.createElement('div');\n",
              "        docLink.innerHTML = docLinkHtml;\n",
              "        element.appendChild(docLink);\n",
              "      }\n",
              "    </script>\n",
              "  </div>\n",
              "\n",
              "\n",
              "<div id=\"df-5e83018e-ab1f-4440-96ee-5abb92478748\">\n",
              "  <button class=\"colab-df-quickchart\" onclick=\"quickchart('df-5e83018e-ab1f-4440-96ee-5abb92478748')\"\n",
              "            title=\"Suggest charts\"\n",
              "            style=\"display:none;\">\n",
              "\n",
              "<svg xmlns=\"http://www.w3.org/2000/svg\" height=\"24px\"viewBox=\"0 0 24 24\"\n",
              "     width=\"24px\">\n",
              "    <g>\n",
              "        <path d=\"M19 3H5c-1.1 0-2 .9-2 2v14c0 1.1.9 2 2 2h14c1.1 0 2-.9 2-2V5c0-1.1-.9-2-2-2zM9 17H7v-7h2v7zm4 0h-2V7h2v10zm4 0h-2v-4h2v4z\"/>\n",
              "    </g>\n",
              "</svg>\n",
              "  </button>\n",
              "\n",
              "<style>\n",
              "  .colab-df-quickchart {\n",
              "      --bg-color: #E8F0FE;\n",
              "      --fill-color: #1967D2;\n",
              "      --hover-bg-color: #E2EBFA;\n",
              "      --hover-fill-color: #174EA6;\n",
              "      --disabled-fill-color: #AAA;\n",
              "      --disabled-bg-color: #DDD;\n",
              "  }\n",
              "\n",
              "  [theme=dark] .colab-df-quickchart {\n",
              "      --bg-color: #3B4455;\n",
              "      --fill-color: #D2E3FC;\n",
              "      --hover-bg-color: #434B5C;\n",
              "      --hover-fill-color: #FFFFFF;\n",
              "      --disabled-bg-color: #3B4455;\n",
              "      --disabled-fill-color: #666;\n",
              "  }\n",
              "\n",
              "  .colab-df-quickchart {\n",
              "    background-color: var(--bg-color);\n",
              "    border: none;\n",
              "    border-radius: 50%;\n",
              "    cursor: pointer;\n",
              "    display: none;\n",
              "    fill: var(--fill-color);\n",
              "    height: 32px;\n",
              "    padding: 0;\n",
              "    width: 32px;\n",
              "  }\n",
              "\n",
              "  .colab-df-quickchart:hover {\n",
              "    background-color: var(--hover-bg-color);\n",
              "    box-shadow: 0 1px 2px rgba(60, 64, 67, 0.3), 0 1px 3px 1px rgba(60, 64, 67, 0.15);\n",
              "    fill: var(--button-hover-fill-color);\n",
              "  }\n",
              "\n",
              "  .colab-df-quickchart-complete:disabled,\n",
              "  .colab-df-quickchart-complete:disabled:hover {\n",
              "    background-color: var(--disabled-bg-color);\n",
              "    fill: var(--disabled-fill-color);\n",
              "    box-shadow: none;\n",
              "  }\n",
              "\n",
              "  .colab-df-spinner {\n",
              "    border: 2px solid var(--fill-color);\n",
              "    border-color: transparent;\n",
              "    border-bottom-color: var(--fill-color);\n",
              "    animation:\n",
              "      spin 1s steps(1) infinite;\n",
              "  }\n",
              "\n",
              "  @keyframes spin {\n",
              "    0% {\n",
              "      border-color: transparent;\n",
              "      border-bottom-color: var(--fill-color);\n",
              "      border-left-color: var(--fill-color);\n",
              "    }\n",
              "    20% {\n",
              "      border-color: transparent;\n",
              "      border-left-color: var(--fill-color);\n",
              "      border-top-color: var(--fill-color);\n",
              "    }\n",
              "    30% {\n",
              "      border-color: transparent;\n",
              "      border-left-color: var(--fill-color);\n",
              "      border-top-color: var(--fill-color);\n",
              "      border-right-color: var(--fill-color);\n",
              "    }\n",
              "    40% {\n",
              "      border-color: transparent;\n",
              "      border-right-color: var(--fill-color);\n",
              "      border-top-color: var(--fill-color);\n",
              "    }\n",
              "    60% {\n",
              "      border-color: transparent;\n",
              "      border-right-color: var(--fill-color);\n",
              "    }\n",
              "    80% {\n",
              "      border-color: transparent;\n",
              "      border-right-color: var(--fill-color);\n",
              "      border-bottom-color: var(--fill-color);\n",
              "    }\n",
              "    90% {\n",
              "      border-color: transparent;\n",
              "      border-bottom-color: var(--fill-color);\n",
              "    }\n",
              "  }\n",
              "</style>\n",
              "\n",
              "  <script>\n",
              "    async function quickchart(key) {\n",
              "      const quickchartButtonEl =\n",
              "        document.querySelector('#' + key + ' button');\n",
              "      quickchartButtonEl.disabled = true;  // To prevent multiple clicks.\n",
              "      quickchartButtonEl.classList.add('colab-df-spinner');\n",
              "      try {\n",
              "        const charts = await google.colab.kernel.invokeFunction(\n",
              "            'suggestCharts', [key], {});\n",
              "      } catch (error) {\n",
              "        console.error('Error during call to suggestCharts:', error);\n",
              "      }\n",
              "      quickchartButtonEl.classList.remove('colab-df-spinner');\n",
              "      quickchartButtonEl.classList.add('colab-df-quickchart-complete');\n",
              "    }\n",
              "    (() => {\n",
              "      let quickchartButtonEl =\n",
              "        document.querySelector('#df-5e83018e-ab1f-4440-96ee-5abb92478748 button');\n",
              "      quickchartButtonEl.style.display =\n",
              "        google.colab.kernel.accessAllowed ? 'block' : 'none';\n",
              "    })();\n",
              "  </script>\n",
              "</div>\n",
              "\n",
              "  <div id=\"id_1e6956c6-52cc-45bc-894f-dd6c81d167a4\">\n",
              "    <style>\n",
              "      .colab-df-generate {\n",
              "        background-color: #E8F0FE;\n",
              "        border: none;\n",
              "        border-radius: 50%;\n",
              "        cursor: pointer;\n",
              "        display: none;\n",
              "        fill: #1967D2;\n",
              "        height: 32px;\n",
              "        padding: 0 0 0 0;\n",
              "        width: 32px;\n",
              "      }\n",
              "\n",
              "      .colab-df-generate:hover {\n",
              "        background-color: #E2EBFA;\n",
              "        box-shadow: 0px 1px 2px rgba(60, 64, 67, 0.3), 0px 1px 3px 1px rgba(60, 64, 67, 0.15);\n",
              "        fill: #174EA6;\n",
              "      }\n",
              "\n",
              "      [theme=dark] .colab-df-generate {\n",
              "        background-color: #3B4455;\n",
              "        fill: #D2E3FC;\n",
              "      }\n",
              "\n",
              "      [theme=dark] .colab-df-generate:hover {\n",
              "        background-color: #434B5C;\n",
              "        box-shadow: 0px 1px 3px 1px rgba(0, 0, 0, 0.15);\n",
              "        filter: drop-shadow(0px 1px 2px rgba(0, 0, 0, 0.3));\n",
              "        fill: #FFFFFF;\n",
              "      }\n",
              "    </style>\n",
              "    <button class=\"colab-df-generate\" onclick=\"generateWithVariable('y')\"\n",
              "            title=\"Generate code using this dataframe.\"\n",
              "            style=\"display:none;\">\n",
              "\n",
              "  <svg xmlns=\"http://www.w3.org/2000/svg\" height=\"24px\"viewBox=\"0 0 24 24\"\n",
              "       width=\"24px\">\n",
              "    <path d=\"M7,19H8.4L18.45,9,17,7.55,7,17.6ZM5,21V16.75L18.45,3.32a2,2,0,0,1,2.83,0l1.4,1.43a1.91,1.91,0,0,1,.58,1.4,1.91,1.91,0,0,1-.58,1.4L9.25,21ZM18.45,9,17,7.55Zm-12,3A5.31,5.31,0,0,0,4.9,8.1,5.31,5.31,0,0,0,1,6.5,5.31,5.31,0,0,0,4.9,4.9,5.31,5.31,0,0,0,6.5,1,5.31,5.31,0,0,0,8.1,4.9,5.31,5.31,0,0,0,12,6.5,5.46,5.46,0,0,0,6.5,12Z\"/>\n",
              "  </svg>\n",
              "    </button>\n",
              "    <script>\n",
              "      (() => {\n",
              "      const buttonEl =\n",
              "        document.querySelector('#id_1e6956c6-52cc-45bc-894f-dd6c81d167a4 button.colab-df-generate');\n",
              "      buttonEl.style.display =\n",
              "        google.colab.kernel.accessAllowed ? 'block' : 'none';\n",
              "\n",
              "      buttonEl.onclick = () => {\n",
              "        google.colab.notebook.generateWithVariable('y');\n",
              "      }\n",
              "      })();\n",
              "    </script>\n",
              "  </div>\n",
              "\n",
              "    </div>\n",
              "  </div>\n"
            ]
          },
          "metadata": {},
          "execution_count": 116
        }
      ]
    },
    {
      "cell_type": "markdown",
      "source": [
        "Check for missing values"
      ],
      "metadata": {
        "id": "Nab1sriUFKIT"
      }
    },
    {
      "cell_type": "code",
      "source": [
        "X.isna().sum()"
      ],
      "metadata": {
        "colab": {
          "base_uri": "https://localhost:8080/"
        },
        "id": "N7W5xGJnv4Ma",
        "outputId": "37c22881-b89f-48c3-d4e7-34c0b51603b8"
      },
      "execution_count": 117,
      "outputs": [
        {
          "output_type": "execute_result",
          "data": {
            "text/plain": [
              "RIAGENDR    0\n",
              "PAQ605      0\n",
              "BMXBMI      0\n",
              "LBXGLU      0\n",
              "DIQ010      0\n",
              "LBXGLT      0\n",
              "LBXIN       0\n",
              "dtype: int64"
            ]
          },
          "metadata": {},
          "execution_count": 117
        }
      ]
    },
    {
      "cell_type": "markdown",
      "source": [
        "Calculate means of features by age group"
      ],
      "metadata": {
        "id": "rLrZhSn4GHkc"
      }
    },
    {
      "cell_type": "code",
      "source": [
        "senior_group = X[y['age_group'] == 'Senior']\n",
        "adult_group = X[y['age_group'] == 'Adult']\n",
        "\n",
        "senior_means = senior_group.mean()\n",
        "print(\"Senior means:\\n\", senior_means)\n",
        "adult_means = adult_group.mean()\n",
        "print(\"\\nAdult means:\\n\", adult_means)"
      ],
      "metadata": {
        "id": "ChIAJgLpF7x4",
        "colab": {
          "base_uri": "https://localhost:8080/"
        },
        "outputId": "a13063c6-c80f-48fa-f618-c3930f1947fb"
      },
      "execution_count": 118,
      "outputs": [
        {
          "output_type": "stream",
          "name": "stdout",
          "text": [
            "Senior means:\n",
            " RIAGENDR      1.508242\n",
            "PAQ605        1.909341\n",
            "BMXBMI       27.886264\n",
            "LBXGLU      104.329670\n",
            "DIQ010        2.027473\n",
            "LBXGLT      141.208791\n",
            "LBXIN        10.405247\n",
            "dtype: float64\n",
            "\n",
            "Adult means:\n",
            " RIAGENDR      1.512017\n",
            "PAQ605        1.806165\n",
            "BMXBMI       27.968286\n",
            "LBXGLU       98.644723\n",
            "DIQ010        2.014107\n",
            "LBXGLT      109.990596\n",
            "LBXIN        12.106661\n",
            "dtype: float64\n"
          ]
        }
      ]
    },
    {
      "cell_type": "code",
      "source": [
        "squared_diff = (senior_means - adult_means) ** 2\n",
        "ranked_features = squared_diff.sort_values(ascending=False)\n",
        "print(\"\\nRanked features based on squared difference:\\n\", ranked_features)"
      ],
      "metadata": {
        "id": "ktJ6YSCgGt4v",
        "colab": {
          "base_uri": "https://localhost:8080/"
        },
        "outputId": "bbb3e43f-3cf0-419c-b3ff-ecca36e027be"
      },
      "execution_count": 119,
      "outputs": [
        {
          "output_type": "stream",
          "name": "stdout",
          "text": [
            "\n",
            "Ranked features based on squared difference:\n",
            " LBXGLT      974.575736\n",
            "LBXGLU       32.318625\n",
            "LBXIN         2.894810\n",
            "PAQ605        0.010645\n",
            "BMXBMI        0.006728\n",
            "DIQ010        0.000179\n",
            "RIAGENDR      0.000014\n",
            "dtype: float64\n"
          ]
        }
      ]
    },
    {
      "cell_type": "markdown",
      "source": [
        "1.   LBXGLT has a significant difference\n",
        "2.   LBXGLU also shows a notable difference\n",
        "3.   LBXIN shows a small difference between groups\n",
        "\n",
        "The rest of the features have relatively small squared differences, which indicates that there is less variation between Adult and Senior groups for these variables.\n",
        "\n",
        "\n",
        "\n",
        "\n"
      ],
      "metadata": {
        "id": "p4K2ez7SI2eX"
      }
    },
    {
      "cell_type": "markdown",
      "source": [
        "### Data Split"
      ],
      "metadata": {
        "id": "5IfO-SDpRnAL"
      }
    },
    {
      "cell_type": "markdown",
      "source": [
        "NHANES age prediction"
      ],
      "metadata": {
        "id": "zc47kD_s0ZMb"
      }
    },
    {
      "cell_type": "code",
      "source": [
        "age_pred = pd.concat([X, y], axis=1)\n",
        "age_pred_shuffled = age_pred.sample(frac=1, random_state = 110)\n",
        "\n",
        "train_ratio = 0.6\n",
        "validation_ratio = 0.2\n",
        "test_ratio = 0.2\n",
        "\n",
        "train_num = int(len(age_pred_shuffled) * train_ratio)\n",
        "validation_num = int(len(age_pred_shuffled) * validation_ratio)\n",
        "\n",
        "train = age_pred_shuffled[:train_num]\n",
        "validation = age_pred_shuffled[train_num:train_num + validation_num]\n",
        "test = age_pred_shuffled[train_num + validation_num:]\n",
        "\n",
        "print(\"Training Set:\", train.shape)\n",
        "print(\"Validation Set:\", validation.shape)\n",
        "print(\"Test Set:\", test.shape)\n",
        "\n",
        "#relevant_columns = ['LBXGLT', 'LBXGLU', 'LBXIN']\n",
        "\n",
        "train_x = train.values\n",
        "train_y = train['age_group'].values\n",
        "\n",
        "validation_x = validation.values\n",
        "validation_y = validation['age_group'].values\n",
        "\n",
        "test_x = test.values\n",
        "test_y = test['age_group'].values"
      ],
      "metadata": {
        "id": "Mmi0yFp-RqH5",
        "colab": {
          "base_uri": "https://localhost:8080/"
        },
        "outputId": "f6f08a30-9d05-4cc5-f1f6-10a32a417cd6"
      },
      "execution_count": 120,
      "outputs": [
        {
          "output_type": "stream",
          "name": "stdout",
          "text": [
            "Training Set: (1366, 8)\n",
            "Validation Set: (455, 8)\n",
            "Test Set: (457, 8)\n"
          ]
        }
      ]
    },
    {
      "cell_type": "code",
      "source": [
        "age_pred['age_group'] = age_pred['age_group'].astype('category').cat.codes\n",
        "\n",
        "correlation_matrix = age_pred.corr()\n",
        "correlation_matrix"
      ],
      "metadata": {
        "colab": {
          "base_uri": "https://localhost:8080/",
          "height": 300
        },
        "id": "D066M-kLn6WL",
        "outputId": "ca2c2877-bcf2-424e-c259-b648c2c7afa4"
      },
      "execution_count": 121,
      "outputs": [
        {
          "output_type": "execute_result",
          "data": {
            "text/plain": [
              "           RIAGENDR    PAQ605    BMXBMI    LBXGLU    DIQ010    LBXGLT  \\\n",
              "RIAGENDR   1.000000  0.151076  0.063873 -0.132342 -0.032769  0.017406   \n",
              "PAQ605     0.151076  1.000000 -0.042935 -0.007849 -0.002599  0.060413   \n",
              "BMXBMI     0.063873 -0.042935  1.000000  0.208330  0.047133  0.193375   \n",
              "LBXGLU    -0.132342 -0.007849  0.208330  1.000000 -0.004427  0.685579   \n",
              "DIQ010    -0.032769 -0.002599  0.047133 -0.004427  1.000000  0.009796   \n",
              "LBXGLT     0.017406  0.060413  0.193375  0.685579  0.009796  1.000000   \n",
              "LBXIN     -0.016660  0.010011  0.552717  0.211911  0.058986  0.217272   \n",
              "age_group -0.002767  0.094789 -0.004147  0.116462  0.026399  0.243113   \n",
              "\n",
              "              LBXIN  age_group  \n",
              "RIAGENDR  -0.016660  -0.002767  \n",
              "PAQ605     0.010011   0.094789  \n",
              "BMXBMI     0.552717  -0.004147  \n",
              "LBXGLU     0.211911   0.116462  \n",
              "DIQ010     0.058986   0.026399  \n",
              "LBXGLT     0.217272   0.243113  \n",
              "LBXIN      1.000000  -0.064159  \n",
              "age_group -0.064159   1.000000  "
            ],
            "text/html": [
              "\n",
              "  <div id=\"df-b964d0e4-a3b5-44e6-9bbb-047174d7b8c3\" class=\"colab-df-container\">\n",
              "    <div>\n",
              "<style scoped>\n",
              "    .dataframe tbody tr th:only-of-type {\n",
              "        vertical-align: middle;\n",
              "    }\n",
              "\n",
              "    .dataframe tbody tr th {\n",
              "        vertical-align: top;\n",
              "    }\n",
              "\n",
              "    .dataframe thead th {\n",
              "        text-align: right;\n",
              "    }\n",
              "</style>\n",
              "<table border=\"1\" class=\"dataframe\">\n",
              "  <thead>\n",
              "    <tr style=\"text-align: right;\">\n",
              "      <th></th>\n",
              "      <th>RIAGENDR</th>\n",
              "      <th>PAQ605</th>\n",
              "      <th>BMXBMI</th>\n",
              "      <th>LBXGLU</th>\n",
              "      <th>DIQ010</th>\n",
              "      <th>LBXGLT</th>\n",
              "      <th>LBXIN</th>\n",
              "      <th>age_group</th>\n",
              "    </tr>\n",
              "  </thead>\n",
              "  <tbody>\n",
              "    <tr>\n",
              "      <th>RIAGENDR</th>\n",
              "      <td>1.000000</td>\n",
              "      <td>0.151076</td>\n",
              "      <td>0.063873</td>\n",
              "      <td>-0.132342</td>\n",
              "      <td>-0.032769</td>\n",
              "      <td>0.017406</td>\n",
              "      <td>-0.016660</td>\n",
              "      <td>-0.002767</td>\n",
              "    </tr>\n",
              "    <tr>\n",
              "      <th>PAQ605</th>\n",
              "      <td>0.151076</td>\n",
              "      <td>1.000000</td>\n",
              "      <td>-0.042935</td>\n",
              "      <td>-0.007849</td>\n",
              "      <td>-0.002599</td>\n",
              "      <td>0.060413</td>\n",
              "      <td>0.010011</td>\n",
              "      <td>0.094789</td>\n",
              "    </tr>\n",
              "    <tr>\n",
              "      <th>BMXBMI</th>\n",
              "      <td>0.063873</td>\n",
              "      <td>-0.042935</td>\n",
              "      <td>1.000000</td>\n",
              "      <td>0.208330</td>\n",
              "      <td>0.047133</td>\n",
              "      <td>0.193375</td>\n",
              "      <td>0.552717</td>\n",
              "      <td>-0.004147</td>\n",
              "    </tr>\n",
              "    <tr>\n",
              "      <th>LBXGLU</th>\n",
              "      <td>-0.132342</td>\n",
              "      <td>-0.007849</td>\n",
              "      <td>0.208330</td>\n",
              "      <td>1.000000</td>\n",
              "      <td>-0.004427</td>\n",
              "      <td>0.685579</td>\n",
              "      <td>0.211911</td>\n",
              "      <td>0.116462</td>\n",
              "    </tr>\n",
              "    <tr>\n",
              "      <th>DIQ010</th>\n",
              "      <td>-0.032769</td>\n",
              "      <td>-0.002599</td>\n",
              "      <td>0.047133</td>\n",
              "      <td>-0.004427</td>\n",
              "      <td>1.000000</td>\n",
              "      <td>0.009796</td>\n",
              "      <td>0.058986</td>\n",
              "      <td>0.026399</td>\n",
              "    </tr>\n",
              "    <tr>\n",
              "      <th>LBXGLT</th>\n",
              "      <td>0.017406</td>\n",
              "      <td>0.060413</td>\n",
              "      <td>0.193375</td>\n",
              "      <td>0.685579</td>\n",
              "      <td>0.009796</td>\n",
              "      <td>1.000000</td>\n",
              "      <td>0.217272</td>\n",
              "      <td>0.243113</td>\n",
              "    </tr>\n",
              "    <tr>\n",
              "      <th>LBXIN</th>\n",
              "      <td>-0.016660</td>\n",
              "      <td>0.010011</td>\n",
              "      <td>0.552717</td>\n",
              "      <td>0.211911</td>\n",
              "      <td>0.058986</td>\n",
              "      <td>0.217272</td>\n",
              "      <td>1.000000</td>\n",
              "      <td>-0.064159</td>\n",
              "    </tr>\n",
              "    <tr>\n",
              "      <th>age_group</th>\n",
              "      <td>-0.002767</td>\n",
              "      <td>0.094789</td>\n",
              "      <td>-0.004147</td>\n",
              "      <td>0.116462</td>\n",
              "      <td>0.026399</td>\n",
              "      <td>0.243113</td>\n",
              "      <td>-0.064159</td>\n",
              "      <td>1.000000</td>\n",
              "    </tr>\n",
              "  </tbody>\n",
              "</table>\n",
              "</div>\n",
              "    <div class=\"colab-df-buttons\">\n",
              "\n",
              "  <div class=\"colab-df-container\">\n",
              "    <button class=\"colab-df-convert\" onclick=\"convertToInteractive('df-b964d0e4-a3b5-44e6-9bbb-047174d7b8c3')\"\n",
              "            title=\"Convert this dataframe to an interactive table.\"\n",
              "            style=\"display:none;\">\n",
              "\n",
              "  <svg xmlns=\"http://www.w3.org/2000/svg\" height=\"24px\" viewBox=\"0 -960 960 960\">\n",
              "    <path d=\"M120-120v-720h720v720H120Zm60-500h600v-160H180v160Zm220 220h160v-160H400v160Zm0 220h160v-160H400v160ZM180-400h160v-160H180v160Zm440 0h160v-160H620v160ZM180-180h160v-160H180v160Zm440 0h160v-160H620v160Z\"/>\n",
              "  </svg>\n",
              "    </button>\n",
              "\n",
              "  <style>\n",
              "    .colab-df-container {\n",
              "      display:flex;\n",
              "      gap: 12px;\n",
              "    }\n",
              "\n",
              "    .colab-df-convert {\n",
              "      background-color: #E8F0FE;\n",
              "      border: none;\n",
              "      border-radius: 50%;\n",
              "      cursor: pointer;\n",
              "      display: none;\n",
              "      fill: #1967D2;\n",
              "      height: 32px;\n",
              "      padding: 0 0 0 0;\n",
              "      width: 32px;\n",
              "    }\n",
              "\n",
              "    .colab-df-convert:hover {\n",
              "      background-color: #E2EBFA;\n",
              "      box-shadow: 0px 1px 2px rgba(60, 64, 67, 0.3), 0px 1px 3px 1px rgba(60, 64, 67, 0.15);\n",
              "      fill: #174EA6;\n",
              "    }\n",
              "\n",
              "    .colab-df-buttons div {\n",
              "      margin-bottom: 4px;\n",
              "    }\n",
              "\n",
              "    [theme=dark] .colab-df-convert {\n",
              "      background-color: #3B4455;\n",
              "      fill: #D2E3FC;\n",
              "    }\n",
              "\n",
              "    [theme=dark] .colab-df-convert:hover {\n",
              "      background-color: #434B5C;\n",
              "      box-shadow: 0px 1px 3px 1px rgba(0, 0, 0, 0.15);\n",
              "      filter: drop-shadow(0px 1px 2px rgba(0, 0, 0, 0.3));\n",
              "      fill: #FFFFFF;\n",
              "    }\n",
              "  </style>\n",
              "\n",
              "    <script>\n",
              "      const buttonEl =\n",
              "        document.querySelector('#df-b964d0e4-a3b5-44e6-9bbb-047174d7b8c3 button.colab-df-convert');\n",
              "      buttonEl.style.display =\n",
              "        google.colab.kernel.accessAllowed ? 'block' : 'none';\n",
              "\n",
              "      async function convertToInteractive(key) {\n",
              "        const element = document.querySelector('#df-b964d0e4-a3b5-44e6-9bbb-047174d7b8c3');\n",
              "        const dataTable =\n",
              "          await google.colab.kernel.invokeFunction('convertToInteractive',\n",
              "                                                    [key], {});\n",
              "        if (!dataTable) return;\n",
              "\n",
              "        const docLinkHtml = 'Like what you see? Visit the ' +\n",
              "          '<a target=\"_blank\" href=https://colab.research.google.com/notebooks/data_table.ipynb>data table notebook</a>'\n",
              "          + ' to learn more about interactive tables.';\n",
              "        element.innerHTML = '';\n",
              "        dataTable['output_type'] = 'display_data';\n",
              "        await google.colab.output.renderOutput(dataTable, element);\n",
              "        const docLink = document.createElement('div');\n",
              "        docLink.innerHTML = docLinkHtml;\n",
              "        element.appendChild(docLink);\n",
              "      }\n",
              "    </script>\n",
              "  </div>\n",
              "\n",
              "\n",
              "<div id=\"df-8c969653-1488-4973-81c6-e656da733a06\">\n",
              "  <button class=\"colab-df-quickchart\" onclick=\"quickchart('df-8c969653-1488-4973-81c6-e656da733a06')\"\n",
              "            title=\"Suggest charts\"\n",
              "            style=\"display:none;\">\n",
              "\n",
              "<svg xmlns=\"http://www.w3.org/2000/svg\" height=\"24px\"viewBox=\"0 0 24 24\"\n",
              "     width=\"24px\">\n",
              "    <g>\n",
              "        <path d=\"M19 3H5c-1.1 0-2 .9-2 2v14c0 1.1.9 2 2 2h14c1.1 0 2-.9 2-2V5c0-1.1-.9-2-2-2zM9 17H7v-7h2v7zm4 0h-2V7h2v10zm4 0h-2v-4h2v4z\"/>\n",
              "    </g>\n",
              "</svg>\n",
              "  </button>\n",
              "\n",
              "<style>\n",
              "  .colab-df-quickchart {\n",
              "      --bg-color: #E8F0FE;\n",
              "      --fill-color: #1967D2;\n",
              "      --hover-bg-color: #E2EBFA;\n",
              "      --hover-fill-color: #174EA6;\n",
              "      --disabled-fill-color: #AAA;\n",
              "      --disabled-bg-color: #DDD;\n",
              "  }\n",
              "\n",
              "  [theme=dark] .colab-df-quickchart {\n",
              "      --bg-color: #3B4455;\n",
              "      --fill-color: #D2E3FC;\n",
              "      --hover-bg-color: #434B5C;\n",
              "      --hover-fill-color: #FFFFFF;\n",
              "      --disabled-bg-color: #3B4455;\n",
              "      --disabled-fill-color: #666;\n",
              "  }\n",
              "\n",
              "  .colab-df-quickchart {\n",
              "    background-color: var(--bg-color);\n",
              "    border: none;\n",
              "    border-radius: 50%;\n",
              "    cursor: pointer;\n",
              "    display: none;\n",
              "    fill: var(--fill-color);\n",
              "    height: 32px;\n",
              "    padding: 0;\n",
              "    width: 32px;\n",
              "  }\n",
              "\n",
              "  .colab-df-quickchart:hover {\n",
              "    background-color: var(--hover-bg-color);\n",
              "    box-shadow: 0 1px 2px rgba(60, 64, 67, 0.3), 0 1px 3px 1px rgba(60, 64, 67, 0.15);\n",
              "    fill: var(--button-hover-fill-color);\n",
              "  }\n",
              "\n",
              "  .colab-df-quickchart-complete:disabled,\n",
              "  .colab-df-quickchart-complete:disabled:hover {\n",
              "    background-color: var(--disabled-bg-color);\n",
              "    fill: var(--disabled-fill-color);\n",
              "    box-shadow: none;\n",
              "  }\n",
              "\n",
              "  .colab-df-spinner {\n",
              "    border: 2px solid var(--fill-color);\n",
              "    border-color: transparent;\n",
              "    border-bottom-color: var(--fill-color);\n",
              "    animation:\n",
              "      spin 1s steps(1) infinite;\n",
              "  }\n",
              "\n",
              "  @keyframes spin {\n",
              "    0% {\n",
              "      border-color: transparent;\n",
              "      border-bottom-color: var(--fill-color);\n",
              "      border-left-color: var(--fill-color);\n",
              "    }\n",
              "    20% {\n",
              "      border-color: transparent;\n",
              "      border-left-color: var(--fill-color);\n",
              "      border-top-color: var(--fill-color);\n",
              "    }\n",
              "    30% {\n",
              "      border-color: transparent;\n",
              "      border-left-color: var(--fill-color);\n",
              "      border-top-color: var(--fill-color);\n",
              "      border-right-color: var(--fill-color);\n",
              "    }\n",
              "    40% {\n",
              "      border-color: transparent;\n",
              "      border-right-color: var(--fill-color);\n",
              "      border-top-color: var(--fill-color);\n",
              "    }\n",
              "    60% {\n",
              "      border-color: transparent;\n",
              "      border-right-color: var(--fill-color);\n",
              "    }\n",
              "    80% {\n",
              "      border-color: transparent;\n",
              "      border-right-color: var(--fill-color);\n",
              "      border-bottom-color: var(--fill-color);\n",
              "    }\n",
              "    90% {\n",
              "      border-color: transparent;\n",
              "      border-bottom-color: var(--fill-color);\n",
              "    }\n",
              "  }\n",
              "</style>\n",
              "\n",
              "  <script>\n",
              "    async function quickchart(key) {\n",
              "      const quickchartButtonEl =\n",
              "        document.querySelector('#' + key + ' button');\n",
              "      quickchartButtonEl.disabled = true;  // To prevent multiple clicks.\n",
              "      quickchartButtonEl.classList.add('colab-df-spinner');\n",
              "      try {\n",
              "        const charts = await google.colab.kernel.invokeFunction(\n",
              "            'suggestCharts', [key], {});\n",
              "      } catch (error) {\n",
              "        console.error('Error during call to suggestCharts:', error);\n",
              "      }\n",
              "      quickchartButtonEl.classList.remove('colab-df-spinner');\n",
              "      quickchartButtonEl.classList.add('colab-df-quickchart-complete');\n",
              "    }\n",
              "    (() => {\n",
              "      let quickchartButtonEl =\n",
              "        document.querySelector('#df-8c969653-1488-4973-81c6-e656da733a06 button');\n",
              "      quickchartButtonEl.style.display =\n",
              "        google.colab.kernel.accessAllowed ? 'block' : 'none';\n",
              "    })();\n",
              "  </script>\n",
              "</div>\n",
              "\n",
              "  <div id=\"id_ef14f66f-d4ea-4608-b503-cbc7de5d88e6\">\n",
              "    <style>\n",
              "      .colab-df-generate {\n",
              "        background-color: #E8F0FE;\n",
              "        border: none;\n",
              "        border-radius: 50%;\n",
              "        cursor: pointer;\n",
              "        display: none;\n",
              "        fill: #1967D2;\n",
              "        height: 32px;\n",
              "        padding: 0 0 0 0;\n",
              "        width: 32px;\n",
              "      }\n",
              "\n",
              "      .colab-df-generate:hover {\n",
              "        background-color: #E2EBFA;\n",
              "        box-shadow: 0px 1px 2px rgba(60, 64, 67, 0.3), 0px 1px 3px 1px rgba(60, 64, 67, 0.15);\n",
              "        fill: #174EA6;\n",
              "      }\n",
              "\n",
              "      [theme=dark] .colab-df-generate {\n",
              "        background-color: #3B4455;\n",
              "        fill: #D2E3FC;\n",
              "      }\n",
              "\n",
              "      [theme=dark] .colab-df-generate:hover {\n",
              "        background-color: #434B5C;\n",
              "        box-shadow: 0px 1px 3px 1px rgba(0, 0, 0, 0.15);\n",
              "        filter: drop-shadow(0px 1px 2px rgba(0, 0, 0, 0.3));\n",
              "        fill: #FFFFFF;\n",
              "      }\n",
              "    </style>\n",
              "    <button class=\"colab-df-generate\" onclick=\"generateWithVariable('correlation_matrix')\"\n",
              "            title=\"Generate code using this dataframe.\"\n",
              "            style=\"display:none;\">\n",
              "\n",
              "  <svg xmlns=\"http://www.w3.org/2000/svg\" height=\"24px\"viewBox=\"0 0 24 24\"\n",
              "       width=\"24px\">\n",
              "    <path d=\"M7,19H8.4L18.45,9,17,7.55,7,17.6ZM5,21V16.75L18.45,3.32a2,2,0,0,1,2.83,0l1.4,1.43a1.91,1.91,0,0,1,.58,1.4,1.91,1.91,0,0,1-.58,1.4L9.25,21ZM18.45,9,17,7.55Zm-12,3A5.31,5.31,0,0,0,4.9,8.1,5.31,5.31,0,0,0,1,6.5,5.31,5.31,0,0,0,4.9,4.9,5.31,5.31,0,0,0,6.5,1,5.31,5.31,0,0,0,8.1,4.9,5.31,5.31,0,0,0,12,6.5,5.46,5.46,0,0,0,6.5,12Z\"/>\n",
              "  </svg>\n",
              "    </button>\n",
              "    <script>\n",
              "      (() => {\n",
              "      const buttonEl =\n",
              "        document.querySelector('#id_ef14f66f-d4ea-4608-b503-cbc7de5d88e6 button.colab-df-generate');\n",
              "      buttonEl.style.display =\n",
              "        google.colab.kernel.accessAllowed ? 'block' : 'none';\n",
              "\n",
              "      buttonEl.onclick = () => {\n",
              "        google.colab.notebook.generateWithVariable('correlation_matrix');\n",
              "      }\n",
              "      })();\n",
              "    </script>\n",
              "  </div>\n",
              "\n",
              "    </div>\n",
              "  </div>\n"
            ]
          },
          "metadata": {},
          "execution_count": 121
        }
      ]
    },
    {
      "cell_type": "markdown",
      "source": [
        "## KNN class"
      ],
      "metadata": {
        "id": "hEaUiC3ZOI0I"
      }
    },
    {
      "cell_type": "code",
      "source": [
        "euclidean = lambda x1, x2: np.sqrt(np.sum((x1 - x2)**2, axis=-1))\n",
        "manhattan = lambda x1, x2: np.sum(np.abs(x1 - x2), axis=-1)\n",
        "class KNN:\n",
        "\n",
        "  def __init__(self, K = 1, dist_fn = euclidean):\n",
        "    self.dist_fn = dist_fn\n",
        "    self.K = K\n",
        "\n",
        "\n",
        "  def fit(self, x, y):\n",
        "    self.x = x\n",
        "    self.y = y\n",
        "    self.C = np.max(y) + 1\n",
        "    return self\n",
        "\n",
        "  def predict(self, x_test):\n",
        "    num_test = x_test.shape[0]\n",
        "    distances = self.dist_fn(self.x[None,:,:], x_test[:,None,:])\n",
        "    knns = np.zeros((num_test, self.K), dtype=int)\n",
        "    y_prob = np.zeros((num_test, self.C))\n",
        "    for i in range(num_test):\n",
        "            #print(i)\n",
        "            knns[i,:] = np.argsort(distances[i])[:self.K]\n",
        "            #print(knns[i,:])\n",
        "            y_prob[i,:] = np.bincount(self.y[knns[i,:]], minlength=self.C)\n",
        "    y_prob /= self.K\n",
        "    return y_prob, knns\n",
        "\n",
        "def evaluate_acc(y_true, y_pred):\n",
        "  correct_pred = np.sum(y_true == y_pred)\n",
        "  total_pred = len(y_true)\n",
        "  acc = correct_pred / total_pred\n",
        "  return acc\n"
      ],
      "metadata": {
        "id": "5QHFdN7gLHbO"
      },
      "execution_count": 122,
      "outputs": []
    },
    {
      "cell_type": "markdown",
      "source": [
        "## DT & Node class\n"
      ],
      "metadata": {
        "id": "BJSZM2XRRneP"
      }
    },
    {
      "cell_type": "code",
      "execution_count": 123,
      "metadata": {
        "id": "kMx7Brw292Uh",
        "pycharm": {
          "name": "#%%\n"
        }
      },
      "outputs": [],
      "source": [
        "class Node:\n",
        "    def __init__(self, data_indices, parent):\n",
        "        self.data_indices = data_indices                    #stores the data indices which are in the region defined by this node\n",
        "        self.left = None                                    #stores the left child of the node\n",
        "        self.right = None                                   #stores the right child of the node\n",
        "        self.split_feature = None                           #the feature for split at this node\n",
        "        self.split_value = None                             #the value of the feature for split at this node\n",
        "        if parent:\n",
        "            self.depth = parent.depth + 1                   #obtain the dept of the node by adding one to dept of the parent\n",
        "            self.num_classes = parent.num_classes           #copies the num classes from the parent\n",
        "            self.data = parent.data                         #copies the data from the parent\n",
        "            self.labels = parent.labels                     #copies the labels from the parent\n",
        "            class_prob = np.bincount(self.labels[data_indices], minlength=self.num_classes) #this is counting frequency of different labels in the region defined by this node\n",
        "            self.class_prob = class_prob / np.sum(class_prob)  #stores the class probability for the node\n",
        "\n",
        "def greedy_test(node, cost_fn):\n",
        "    #initialize the best parameter values\n",
        "    best_cost = np.inf\n",
        "    best_feature, best_value = None, None\n",
        "    num_instances, num_features = node.data.shape\n",
        "    #sort the features to get the test value candidates by taking the average of consecutive sorted feature values\n",
        "    data_sorted = np.sort(node.data[node.data_indices],axis=0)\n",
        "    test_candidates = (data_sorted[1:] + data_sorted[:-1]) / 2.\n",
        "    for f in range(num_features):\n",
        "        #stores the data corresponding to the f-th feature\n",
        "        data_f = node.data[node.data_indices, f]\n",
        "        for test in test_candidates[:,f]:\n",
        "            #Split the indices using the test value of f-th feature\n",
        "            left_indices = node.data_indices[data_f <= test]\n",
        "            right_indices = node.data_indices[data_f > test]\n",
        "\n",
        "            if len(left_indices) == 0 or len(right_indices) == 0:\n",
        "                continue\n",
        "            #compute the left and right cost based on the current split\n",
        "            left_cost = cost_fn(node.labels[left_indices])\n",
        "            right_cost = cost_fn(node.labels[right_indices])\n",
        "            num_left, num_right = left_indices.shape[0], right_indices.shape[0]\n",
        "            #get the combined cost using the weighted sum of left and right cost\n",
        "            cost = (num_left * left_cost + num_right * right_cost)/num_instances\n",
        "            #update only when a lower cost is encountered\n",
        "            if cost < best_cost:\n",
        "                best_cost = cost\n",
        "                best_feature = f\n",
        "                best_value = test\n",
        "    return best_cost, best_feature, best_value\n",
        "  #computes misclassification cost by subtracting the maximum probability of any class\n",
        "def cost_misclassification(labels):\n",
        "    class_probs = np.bincount(labels) / len(labels)\n",
        "    return 1 - np.max(class_probs)\n",
        "\n",
        "#computes entropy of the labels by computing the class probabilities\n",
        "def cost_entropy(labels):\n",
        "    class_probs = np.bincount(labels) / len(labels)\n",
        "    class_probs = class_probs[class_probs > 0]              #this steps is remove 0 probabilities for removing numerical issues while computing log\n",
        "    return -np.sum(class_probs * np.log2(class_probs))       #expression for entropy -\\sigma p(x)log[p(x)]\n",
        "\n",
        "#computes the gini index cost\n",
        "def cost_gini_index(labels):\n",
        "    class_probs = np.bincount(labels) / len(labels)\n",
        "    return 1 - np.sum(np.square(class_probs))               #expression for gini index 1-\\sigma p(x)^2"
      ]
    },
    {
      "cell_type": "code",
      "source": [
        "class DecisionTree:\n",
        "    def __init__(self, num_classes=None, max_depth=3, cost_fn=cost_misclassification, min_leaf_instances=1):\n",
        "        self.max_depth = max_depth      #maximum dept for termination\n",
        "        self.root = None                #stores the root of the decision tree\n",
        "        self.cost_fn = cost_fn          #stores the cost function of the decision tree\n",
        "        self.num_classes = num_classes  #stores the total number of classes\n",
        "        self.min_leaf_instances = min_leaf_instances  #minimum number of instances in a leaf for termination\n",
        "\n",
        "    def fit(self, data, labels):\n",
        "        self.data = data\n",
        "        self.labels = labels\n",
        "        if self.num_classes is None:\n",
        "            self.num_classes = np.max(labels) + 1\n",
        "        #below are initialization of the root of the decision tree\n",
        "        self.root = Node(np.arange(data.shape[0]), None)\n",
        "        self.root.data = data\n",
        "        self.root.labels = labels\n",
        "        self.root.num_classes = self.num_classes\n",
        "        self.root.depth = 0\n",
        "        #to recursively build the rest of the tree\n",
        "        self._fit_tree(self.root)\n",
        "        return self\n",
        "\n",
        "    def _fit_tree(self, node):\n",
        "      #This gives the condition for termination of the recursion resulting in a leaf node\n",
        "      if node.depth == self.max_depth or len(node.data_indices) <= self.min_leaf_instances:\n",
        "          return\n",
        "      #greedily select the best test by minimizing the cost\n",
        "      cost, split_feature, split_value = greedy_test(node, self.cost_fn)\n",
        "      #if the cost returned is infinity it means that it is not possible to split the node and hence terminate\n",
        "      if np.isinf(cost):\n",
        "          return\n",
        "      #print(f'best feature: {split_feature}, value {split_value}, cost {cost}')\n",
        "      #to get a boolean array suggesting which data indices corresponding to this node are in the left of the split\n",
        "      test = node.data[node.data_indices,split_feature] <= split_value\n",
        "      #store the split feature and value of the node\n",
        "      node.split_feature = split_feature\n",
        "      node.split_value = split_value\n",
        "      #define new nodes which are going to be the left and right child of the present node\n",
        "      left = Node(node.data_indices[test], node)\n",
        "      right = Node(node.data_indices[np.logical_not(test)], node)\n",
        "      #recursive call to the _fit_tree()\n",
        "      self._fit_tree(left)\n",
        "      self._fit_tree(right)\n",
        "      #assign the left and right child to present child\n",
        "      node.left = left\n",
        "      node.right = right\n",
        "\n",
        "    def predict(self, data_test):\n",
        "      class_probs = np.zeros((data_test.shape[0], self.num_classes))\n",
        "      for n, x in enumerate(data_test):\n",
        "          node = self.root\n",
        "          #loop along the dept of the tree looking region where the present data sample fall in based on the split feature and value\n",
        "          while node.left:\n",
        "              if x[node.split_feature] <= node.split_value:\n",
        "                  node = node.left\n",
        "              else:\n",
        "                  node = node.right\n",
        "          #the loop terminates when you reach a leaf of the tree and the class probability of that node is taken for prediction\n",
        "          class_probs[n,:] = node.class_prob\n",
        "      return class_probs"
      ],
      "metadata": {
        "id": "EzoUxnAQvYCo"
      },
      "execution_count": 124,
      "outputs": []
    },
    {
      "cell_type": "markdown",
      "source": [
        "DT on NHANES age prediction.csv"
      ],
      "metadata": {
        "id": "B-Hx-RNS39Pu"
      }
    },
    {
      "cell_type": "code",
      "source": [
        "label_to_int = {'Adult': 0, 'Senior': 1}\n",
        "\n",
        "def encode_labels(labels):\n",
        "    encoded_labels = []\n",
        "    for label in labels:\n",
        "        encoded_label = label_to_int[label]\n",
        "        encoded_labels.append(encoded_label)\n",
        "    return np.array(encoded_labels)\n",
        "\n",
        "train_x = train.iloc[:, :-1].values\n",
        "train_y = train.iloc[:, -1].values\n",
        "\n",
        "test_x = test.iloc[:, :-1].values\n",
        "test_y = test.iloc[:, -1].values\n",
        "\n",
        "train_y_encoded = encode_labels(train_y)\n",
        "test_y_encoded = encode_labels(test_y)\n",
        "\n",
        "dt = DecisionTree(max_depth=3, num_classes=2)\n",
        "dt.fit(train_x, train_y_encoded)\n",
        "\n",
        "y_test_pred_probs = dt.predict(test_x)\n",
        "y_test_pred = np.argmax(y_test_pred_probs, axis=1)\n",
        "\n",
        "accuracy = evaluate_acc(test_y_encoded, y_test_pred)\n",
        "print(f'Test Accuracy: {accuracy * 100:.2f}%')"
      ],
      "metadata": {
        "id": "LZVP5aszyr0E",
        "colab": {
          "base_uri": "https://localhost:8080/"
        },
        "outputId": "3094baf9-0c6f-4073-a85f-d3b58799b83e"
      },
      "execution_count": 125,
      "outputs": [
        {
          "output_type": "stream",
          "name": "stdout",
          "text": [
            "Test Accuracy: 83.15%\n"
          ]
        }
      ]
    },
    {
      "cell_type": "markdown",
      "source": [
        "Choosing best depth and cost"
      ],
      "metadata": {
        "id": "wUH7eytJKbIh"
      }
    },
    {
      "cell_type": "code",
      "source": [
        "validation_x = validation.iloc[:, :-1].values\n",
        "validation_y = validation.iloc[:, -1].values\n",
        "validation_y_encoded = encode_labels(validation_y)\n",
        "\n",
        "model_choices = []\n",
        "valid_acc = []\n",
        "cost_functions = {\n",
        "    'entropy': cost_entropy,\n",
        "    'gini_index': cost_gini_index\n",
        "}\n",
        "\n",
        "for depth in range(1, 11):\n",
        "    for cost_name, cost_fn in cost_functions.items():\n",
        "        dt = DecisionTree(max_depth=depth, num_classes=2, cost_fn=cost_fn)\n",
        "        dt.fit(train_x, train_y_encoded)\n",
        "\n",
        "        y_valid_pred_probs = dt.predict(validation_x)\n",
        "        y_valid_pred = np.argmax(y_valid_pred_probs, axis=1)\n",
        "\n",
        "        accuracy = evaluate_acc(validation_y_encoded, y_valid_pred)\n",
        "\n",
        "        if not valid_acc or accuracy > max(valid_acc):\n",
        "            best_cost_fn = cost_name\n",
        "            best_max_depth = depth\n",
        "\n",
        "        model_choices.append((depth, cost_name))\n",
        "        valid_acc.append(accuracy)\n",
        "\n",
        "print(f\"Best max_depth found: {best_max_depth} with Cost Function: {best_cost_fn}, Validation Accuracy: {max(valid_acc) * 100:.2f}%\")\n",
        "\n",
        "dt_best = DecisionTree(max_depth=best_max_depth, num_classes=2, cost_fn=cost_functions[best_cost_fn])\n",
        "dt_best.fit(train_x, train_y_encoded)\n",
        "\n",
        "y_test_pred_probs = dt_best.predict(test_x)\n",
        "y_test_pred = np.argmax(y_test_pred_probs, axis=1)\n",
        "test_accuracy = np.sum(y_test_pred == test_y_encoded) / len(test_y_encoded)\n",
        "print(f\"Test Accuracy with best max_depth = {best_max_depth} and Cost Function: {best_cost_fn}: {test_accuracy * 100:.2f}%\")"
      ],
      "metadata": {
        "id": "Ca-RJ-Nd9PgP",
        "colab": {
          "base_uri": "https://localhost:8080/"
        },
        "outputId": "fe243983-8536-4563-ea3e-5a4963ea16f2"
      },
      "execution_count": 126,
      "outputs": [
        {
          "output_type": "stream",
          "name": "stdout",
          "text": [
            "Best max_depth found: 1 with Cost Function: entropy, Validation Accuracy: 86.15%\n",
            "Test Accuracy with best max_depth = 1 and Cost Function: entropy: 83.15%\n"
          ]
        }
      ]
    },
    {
      "cell_type": "code",
      "source": [
        "y_test_pred_probs = dt_best.predict(test_x)\n",
        "\n",
        "y_test_proba = y_test_pred_probs[:, 1]\n",
        "\n",
        "fpr_d, tpr_d, thresholds_d = roc_curve(test_y_encoded, y_test_proba)\n",
        "roc_auc_d = roc_auc_score(test_y_encoded, y_test_proba)\n",
        "\n",
        "plt.figure()\n",
        "plt.plot(fpr_d, tpr_d, \"b-\", lw=2, label=\"AUROC = %0.2f\" % roc_auc_d)\n",
        "plt.plot([0, 1], [0, 1], linestyle=\"--\", lw=1, color='gray')\n",
        "plt.xlabel('False Positive Rate')\n",
        "plt.ylabel('True Positive Rate')\n",
        "plt.title('ROC Curve for Decision Tree')\n",
        "plt.legend(loc=\"best\")\n",
        "plt.savefig(\"roc_curve_decision_tree_best_depth.png\", bbox_inches='tight', dpi=300)\n",
        "plt.show()"
      ],
      "metadata": {
        "colab": {
          "base_uri": "https://localhost:8080/",
          "height": 472
        },
        "id": "r3EFq5YQK4ok",
        "outputId": "16703738-c36e-4d13-8d3e-ceae14a13ece"
      },
      "execution_count": 127,
      "outputs": [
        {
          "output_type": "display_data",
          "data": {
            "text/plain": [
              "<Figure size 640x480 with 1 Axes>"
            ],
            "image/png": "[encoded data removed]"
          },
          "metadata": {}
        }
      ]
    },
    {
      "cell_type": "markdown",
      "source": [
        "## KNN on NHANES age prediction.csv"
      ],
      "metadata": {
        "id": "zZ-A9ZFG6NdE"
      }
    },
    {
      "cell_type": "markdown",
      "source": [
        "Testing on k = 1"
      ],
      "metadata": {
        "id": "HkMR-VfbOT9d"
      }
    },
    {
      "cell_type": "code",
      "source": [
        "myK = 1\n",
        "model = KNN(K=myK)\n",
        "label_to_int = {'Adult': 0, 'Senior': 1}\n",
        "\n",
        "def encode_labels(labels):\n",
        "    encoded_labels = []\n",
        "    for label in labels:\n",
        "        encoded_label = label_to_int[label]\n",
        "        encoded_labels.append(encoded_label)\n",
        "    return np.array(encoded_labels)\n",
        "\n",
        "train_y_encoded = encode_labels(train['age_group'])\n",
        "test_y_encoded = encode_labels(test['age_group'])\n",
        "validation_y_encoded = encode_labels(validation['age_group'])\n",
        "\n",
        "# relevant features that demonstrate the biggest mean squared difference\n",
        "relevant_columns = ['LBXGLT', 'LBXGLU', 'PAQ605']\n",
        "#relevant_columns = train.columns[:-1]\n",
        "\n",
        "model.fit(train[relevant_columns].values, train_y_encoded)\n",
        "y_prob, knns = model.predict(test[relevant_columns].values)\n",
        "\n",
        "y_pred = np.argmax(y_prob, axis=-1)\n",
        "accuracy = evaluate_acc(test_y_encoded, y_pred)\n",
        "print(f'Accuracy is {accuracy * 100:.2f}%.')"
      ],
      "metadata": {
        "id": "oHCbr-IfQ9oj",
        "colab": {
          "base_uri": "https://localhost:8080/"
        },
        "outputId": "b77e43e9-5906-4c5b-ed8e-85be0aa506b1"
      },
      "execution_count": 128,
      "outputs": [
        {
          "output_type": "stream",
          "name": "stdout",
          "text": [
            "Accuracy is 74.84%.\n"
          ]
        }
      ]
    },
    {
      "cell_type": "markdown",
      "source": [
        "### Choosing hyperparameter K in KNN"
      ],
      "metadata": {
        "id": "b8kIsST1vADr"
      }
    },
    {
      "cell_type": "code",
      "source": [
        "model_choices = []\n",
        "valid_acc = []\n",
        "\n",
        "distance_functions = {'euclidean': euclidean, 'manhattan': manhattan}\n",
        "\n",
        "for k in range(1, 11):\n",
        "    for dist_name, dist_fn in distance_functions.items():\n",
        "        knn = KNN(K=k, dist_fn=dist_fn)\n",
        "        knn.fit(train[relevant_columns].values, train_y_encoded)\n",
        "        y_valid_prob, _ = knn.predict(validation[relevant_columns].values)\n",
        "        y_valid_pred = np.argmax(y_valid_prob, axis=1)\n",
        "        accuracy = evaluate_acc(validation_y_encoded, y_valid_pred)\n",
        "\n",
        "        if not valid_acc or accuracy > max(valid_acc):\n",
        "            best_distance_fn = dist_name\n",
        "            best_valid_K = k\n",
        "\n",
        "        model_choices.append((k, dist_name))\n",
        "        valid_acc.append(accuracy)\n",
        "\n",
        "print(f\"Best K found: {best_valid_K} with Distance Function: {best_distance_fn}, Validation Accuracy: {max(valid_acc) * 100:.2f}%\")\n",
        "\n",
        "knn_best = KNN(K=best_valid_K, dist_fn=distance_functions[best_distance_fn])\n",
        "knn_best.fit(train[relevant_columns].values, train_y_encoded)\n",
        "\n",
        "y_test_prob, _ = knn_best.predict(test[relevant_columns].values)\n",
        "y_test_pred = np.argmax(y_test_prob, axis=1)\n",
        "test_accuracy = evaluate_acc(test_y_encoded, y_test_pred)\n",
        "print(f\"Test Accuracy with best K = {best_valid_K} and Distance Function: {best_distance_fn}: {test_accuracy * 100:.2f}%\")"
      ],
      "metadata": {
        "id": "9OMxggcpu_kT",
        "colab": {
          "base_uri": "https://localhost:8080/"
        },
        "outputId": "fa282c1e-6912-49d8-bf8a-ce965308355a"
      },
      "execution_count": 129,
      "outputs": [
        {
          "output_type": "stream",
          "name": "stdout",
          "text": [
            "Best K found: 6 with Distance Function: manhattan, Validation Accuracy: 86.37%\n",
            "Test Accuracy with best K = 6 and Distance Function: manhattan: 82.06%\n"
          ]
        }
      ]
    },
    {
      "cell_type": "markdown",
      "source": [
        "### ROC (NHANES age prediction.csv)"
      ],
      "metadata": {
        "id": "7KtfyCB59F1i"
      }
    },
    {
      "cell_type": "code",
      "source": [
        "y_test_proba = y_test_prob[:, 1]\n",
        "\n",
        "fpr_k, tpr_k, thresholds_k = roc_curve(test_y_encoded, y_test_proba)\n",
        "roc_auc_k = roc_auc_score(test_y_encoded, y_test_proba)\n",
        "\n",
        "plt.figure()\n",
        "plt.plot(fpr_k, tpr_k, \"r-\", lw=2, label=\"AUROC = %0.2f\" % roc_auc_k)\n",
        "plt.plot([0, 1], [0, 1], linestyle=\"--\", lw=1, color='gray')\n",
        "plt.xlabel('False Positive Rate')\n",
        "plt.ylabel('True Positive Rate')\n",
        "plt.title('ROC Curve KNN')\n",
        "plt.legend(loc=\"best\")\n",
        "plt.savefig(\"roc_curve.png\", bbox_inches='tight', dpi=300)"
      ],
      "metadata": {
        "id": "K_CAYL-t7Y31",
        "colab": {
          "base_uri": "https://localhost:8080/",
          "height": 472
        },
        "outputId": "642b9e0a-3181-4c1c-bec1-88077003f864"
      },
      "execution_count": 130,
      "outputs": [
        {
          "output_type": "display_data",
          "data": {
            "text/plain": [
              "<Figure size 640x480 with 1 Axes>"
            ],
            "image/png": "[encoded data removed]"
          },
          "metadata": {}
        }
      ]
    },
    {
      "cell_type": "markdown",
      "source": [
        "ROC combined"
      ],
      "metadata": {
        "id": "mr81vEzhNZ3m"
      }
    },
    {
      "cell_type": "code",
      "source": [
        "plt.figure()\n",
        "plt.plot(fpr_d, tpr_d, \"b-\", lw=2, label=\"AUROC_DT = %0.2f\" % roc_auc_d)\n",
        "plt.plot([0, 1], [0, 1], linestyle=\"--\", lw=1, color='gray')\n",
        "plt.xlabel('False Positive Rate')\n",
        "plt.ylabel('True Positive Rate')\n",
        "plt.legend(loc=\"best\")\n",
        "\n",
        "plt.plot(fpr_k, tpr_k, \"r-\", lw=2, label=\"AUROC_KNN = %0.2f\" % roc_auc_k)\n",
        "plt.plot([0, 1], [0, 1], linestyle=\"--\", lw=1, color='gray')\n",
        "plt.xlabel('False Positive Rate')\n",
        "plt.ylabel('True Positive Rate')\n",
        "plt.title('ROC Curve')\n",
        "plt.legend(loc=\"best\")\n",
        "plt.savefig(\"roc_curve.png\", bbox_inches='tight', dpi=300)\n",
        "plt.savefig(\"roc_curve_decision_tree_best_depth.png\", bbox_inches='tight', dpi=300)\n",
        "plt.show()"
      ],
      "metadata": {
        "colab": {
          "base_uri": "https://localhost:8080/",
          "height": 472
        },
        "id": "EZ4gDnsqNa1G",
        "outputId": "e46c3210-f9e1-429a-8310-9c349b2ba7f8"
      },
      "execution_count": 131,
      "outputs": [
        {
          "output_type": "display_data",
          "data": {
            "text/plain": [
              "<Figure size 640x480 with 1 Axes>"
            ],
            "image/png": "[encoded data removed]"
          },
          "metadata": {}
        }
      ]
    },
    {
      "cell_type": "markdown",
      "source": [
        "# Breast Cancer Wisconsin"
      ],
      "metadata": {
        "id": "kuwWKySJQm1W"
      }
    },
    {
      "cell_type": "markdown",
      "source": [
        "## Data Preprocessing (Breast Cancer Wisconsin)"
      ],
      "metadata": {
        "id": "ABKW0my88dDJ"
      }
    },
    {
      "cell_type": "code",
      "execution_count": 132,
      "metadata": {
        "id": "5BvXUW8-3tIW"
      },
      "outputs": [],
      "source": [
        "import pandas as pd\n",
        "import numpy as np\n",
        "import matplotlib.pyplot as plt\n",
        "from sklearn.metrics import roc_curve, roc_auc_score #sklearn for ROC only\n",
        "import random\n",
        "from ucimlrepo import fetch_ucirepo\n"
      ]
    },
    {
      "cell_type": "code",
      "source": [
        "from ucimlrepo import fetch_ucirepo\n",
        "\n",
        "# fetch dataset\n",
        "breast_cancer_wisconsin_original = fetch_ucirepo(id=15)\n",
        "\n",
        "# data (as pandas dataframes)\n",
        "X = breast_cancer_wisconsin_original.data.features\n",
        "y = breast_cancer_wisconsin_original.data.targets\n",
        "\n",
        "# metadata\n",
        "print(breast_cancer_wisconsin_original.metadata)\n",
        "\n",
        "# variable information\n",
        "print(breast_cancer_wisconsin_original.variables)"
      ],
      "metadata": {
        "id": "MTqBeTny8BiF",
        "colab": {
          "base_uri": "https://localhost:8080/"
        },
        "outputId": "a39bcfa4-2341-419c-c3f0-998e25d8f05c"
      },
      "execution_count": 133,
      "outputs": [
        {
          "output_type": "stream",
          "name": "stdout",
          "text": [
            "{'uci_id': 15, 'name': 'Breast Cancer Wisconsin (Original)', 'repository_url': 'https://archive.ics.uci.edu/dataset/15/breast+cancer+wisconsin+original', 'data_url': 'https://archive.ics.uci.edu/static/public/15/data.csv', 'abstract': 'Original Wisconsin Breast Cancer Database', 'area': 'Health and Medicine', 'tasks': ['Classification'], 'characteristics': ['Multivariate'], 'num_instances': 699, 'num_features': 9, 'feature_types': ['Integer'], 'demographics': [], 'target_col': ['Class'], 'index_col': ['Sample_code_number'], 'has_missing_values': 'yes', 'missing_values_symbol': 'NaN', 'year_of_dataset_creation': 1990, 'last_updated': 'Fri Nov 03 2023', 'dataset_doi': '10.24432/C5HP4Z', 'creators': ['WIlliam Wolberg'], 'intro_paper': None, 'additional_info': {'summary': \"Samples arrive periodically as Dr. Wolberg reports his clinical cases. The database therefore reflects this chronological grouping of the data. This grouping information appears immediately below, having been removed from the data itself:\\r\\n\\r\\nGroup 1: 367 instances (January 1989)\\r\\nGroup 2:  70 instances (October 1989)\\r\\nGroup 3:  31 instances (February 1990)\\r\\nGroup 4:  17 instances (April 1990)\\r\\nGroup 5:  48 instances (August 1990)\\r\\nGroup 6:  49 instances (Updated January 1991)\\r\\nGroup 7:  31 instances (June 1991)\\r\\nGroup 8:  86 instances (November 1991)\\r\\n-----------------------------------------\\r\\nTotal:   699 points (as of the donated datbase on 15 July 1992)\\r\\n\\r\\nNote that the results summarized above in Past Usage refer to a dataset of size 369, while Group 1 has only 367 instances.  This is because it originally contained 369 instances; 2 were removed.  The following statements summarizes changes to the original Group 1's set of data:\\r\\n\\r\\n#####  Group 1 : 367 points: 200B 167M (January 1989)\\r\\n\\r\\n#####  Revised Jan 10, 1991: Replaced zero bare nuclei in 1080185 & 1187805\\r\\n\\r\\n#####  Revised Nov 22,1991: Removed 765878,4,5,9,7,10,10,10,3,8,1 no record\\r\\n#####                  : Removed 484201,2,7,8,8,4,3,10,3,4,1 zero epithelial\\r\\n#####                  : Changed 0 to 1 in field 6 of sample 1219406\\r\\n#####                  : Changed 0 to 1 in field 8 of following sample:\\r\\n#####                  : 1182404,2,3,1,1,1,2,0,1,1,1\", 'purpose': None, 'funded_by': None, 'instances_represent': None, 'recommended_data_splits': None, 'sensitive_data': None, 'preprocessing_description': None, 'variable_info': '1. Sample code number:            id number\\r\\n2. Clump Thickness:               1 - 10\\r\\n3. Uniformity of Cell Size:       1 - 10\\r\\n4. Uniformity of Cell Shape:      1 - 10\\r\\n5. Marginal Adhesion:             1 - 10\\r\\n6. Single Epithelial Cell Size:   1 - 10\\r\\n7. Bare Nuclei:                   1 - 10\\r\\n8. Bland Chromatin:               1 - 10\\r\\n9. Normal Nucleoli:               1 - 10\\r\\n10. Mitoses:                       1 - 10\\r\\n11. Class:                        (2 for benign, 4 for malignant)', 'citation': None}}\n",
            "                           name     role         type demographic  \\\n",
            "0            Sample_code_number       ID  Categorical        None   \n",
            "1               Clump_thickness  Feature      Integer        None   \n",
            "2       Uniformity_of_cell_size  Feature      Integer        None   \n",
            "3      Uniformity_of_cell_shape  Feature      Integer        None   \n",
            "4             Marginal_adhesion  Feature      Integer        None   \n",
            "5   Single_epithelial_cell_size  Feature      Integer        None   \n",
            "6                   Bare_nuclei  Feature      Integer        None   \n",
            "7               Bland_chromatin  Feature      Integer        None   \n",
            "8               Normal_nucleoli  Feature      Integer        None   \n",
            "9                       Mitoses  Feature      Integer        None   \n",
            "10                        Class   Target       Binary        None   \n",
            "\n",
            "                  description units missing_values  \n",
            "0                        None  None             no  \n",
            "1                        None  None             no  \n",
            "2                        None  None             no  \n",
            "3                        None  None             no  \n",
            "4                        None  None             no  \n",
            "5                        None  None             no  \n",
            "6                        None  None            yes  \n",
            "7                        None  None             no  \n",
            "8                        None  None             no  \n",
            "9                        None  None             no  \n",
            "10  2 = benign, 4 = malignant  None             no  \n"
          ]
        }
      ]
    },
    {
      "cell_type": "markdown",
      "source": [
        "Check for missing values"
      ],
      "metadata": {
        "id": "kd4OZPqoA7GB"
      }
    },
    {
      "cell_type": "code",
      "source": [
        "X.isnull().sum()"
      ],
      "metadata": {
        "id": "goepONOOA8Sc",
        "colab": {
          "base_uri": "https://localhost:8080/"
        },
        "outputId": "cb752446-b29b-4961-c71e-8f253975d589"
      },
      "execution_count": 134,
      "outputs": [
        {
          "output_type": "execute_result",
          "data": {
            "text/plain": [
              "Clump_thickness                 0\n",
              "Uniformity_of_cell_size         0\n",
              "Uniformity_of_cell_shape        0\n",
              "Marginal_adhesion               0\n",
              "Single_epithelial_cell_size     0\n",
              "Bare_nuclei                    16\n",
              "Bland_chromatin                 0\n",
              "Normal_nucleoli                 0\n",
              "Mitoses                         0\n",
              "dtype: int64"
            ]
          },
          "metadata": {},
          "execution_count": 134
        }
      ]
    },
    {
      "cell_type": "markdown",
      "source": [
        "Drop missing values"
      ],
      "metadata": {
        "id": "2amif_tAG9yl"
      }
    },
    {
      "cell_type": "code",
      "source": [
        "br_cancer = pd.concat([X, y], axis=1)\n",
        "br_cancer_shuffled = br_cancer.sample(frac=1, random_state = 110)\n",
        "br_cancer_shuffled = br_cancer_shuffled.dropna()"
      ],
      "metadata": {
        "id": "IMb-4f_yHClr"
      },
      "execution_count": 135,
      "outputs": []
    },
    {
      "cell_type": "markdown",
      "source": [
        "Calculate means of features by class"
      ],
      "metadata": {
        "id": "CJrahXQe8rQg"
      }
    },
    {
      "cell_type": "code",
      "source": [
        "benign_group = X[y['Class'] == 2]\n",
        "malignant_group = X[y['Class'] == 4]\n",
        "\n",
        "benign_means = benign_group.mean()\n",
        "print(\"Benign means:\\n\", benign_means)\n",
        "malignant_means = malignant_group.mean()\n",
        "print(\"\\nMalignant means:\\n\", malignant_means)"
      ],
      "metadata": {
        "id": "IJFxgtcHyTkw",
        "colab": {
          "base_uri": "https://localhost:8080/"
        },
        "outputId": "c99c20fd-d4d1-4243-b40a-cd57088599b6"
      },
      "execution_count": 136,
      "outputs": [
        {
          "output_type": "stream",
          "name": "stdout",
          "text": [
            "Benign means:\n",
            " Clump_thickness                2.956332\n",
            "Uniformity_of_cell_size        1.325328\n",
            "Uniformity_of_cell_shape       1.443231\n",
            "Marginal_adhesion              1.364629\n",
            "Single_epithelial_cell_size    2.120087\n",
            "Bare_nuclei                    1.346847\n",
            "Bland_chromatin                2.100437\n",
            "Normal_nucleoli                1.290393\n",
            "Mitoses                        1.063319\n",
            "dtype: float64\n",
            "\n",
            "Malignant means:\n",
            " Clump_thickness                7.195021\n",
            "Uniformity_of_cell_size        6.572614\n",
            "Uniformity_of_cell_shape       6.560166\n",
            "Marginal_adhesion              5.547718\n",
            "Single_epithelial_cell_size    5.298755\n",
            "Bare_nuclei                    7.627615\n",
            "Bland_chromatin                5.979253\n",
            "Normal_nucleoli                5.863071\n",
            "Mitoses                        2.589212\n",
            "dtype: float64\n"
          ]
        }
      ]
    },
    {
      "cell_type": "code",
      "source": [
        "squared_diff = (benign_means - malignant_means) ** 2\n",
        "ranked_features = squared_diff.sort_values(ascending=False)\n",
        "print(\"\\nRanked features based on squared difference:\\n\", ranked_features)"
      ],
      "metadata": {
        "id": "fp97ZJDPHN5p",
        "colab": {
          "base_uri": "https://localhost:8080/"
        },
        "outputId": "fad0addf-36cb-4e6c-9bf4-1b0ff460b0a1"
      },
      "execution_count": 137,
      "outputs": [
        {
          "output_type": "stream",
          "name": "stdout",
          "text": [
            "\n",
            "Ranked features based on squared difference:\n",
            " Bare_nuclei                    39.448049\n",
            "Uniformity_of_cell_size        27.534017\n",
            "Uniformity_of_cell_shape       26.183019\n",
            "Normal_nucleoli                20.909380\n",
            "Clump_thickness                17.966483\n",
            "Marginal_adhesion              17.498234\n",
            "Bland_chromatin                15.045217\n",
            "Single_epithelial_cell_size    10.103929\n",
            "Mitoses                         2.328349\n",
            "dtype: float64\n"
          ]
        }
      ]
    },
    {
      "cell_type": "markdown",
      "source": [
        "###Data split"
      ],
      "metadata": {
        "id": "m5YipA8U__Ia"
      }
    },
    {
      "cell_type": "code",
      "source": [
        "train_ratio = 0.6\n",
        "validation_ratio = 0.2\n",
        "test_ratio = 0.2\n",
        "\n",
        "train_num = int(len(br_cancer_shuffled) * train_ratio)\n",
        "validation_num = int(len(br_cancer_shuffled) * validation_ratio)\n",
        "\n",
        "train = br_cancer_shuffled[:train_num]\n",
        "validation = br_cancer_shuffled[train_num:train_num + validation_num]\n",
        "test = br_cancer_shuffled[train_num + validation_num:]\n",
        "\n",
        "print(\"Training Set:\", train.shape)\n",
        "print(\"Validation Set:\", validation.shape)\n",
        "print(\"Test Set:\", test.shape)\n",
        "\n",
        "train_x = train.drop(columns=['Class']).values\n",
        "train_y = train['Class'].values\n",
        "\n",
        "validation_x = validation.drop(columns=['Class']).values\n",
        "validation_y = validation['Class'].values\n",
        "\n",
        "test_x = test.drop(columns=['Class']).values\n",
        "test_y = test['Class'].values\n",
        "\n",
        "# Encoding ensures that the current implementation of the KNN is treating labels\n",
        "# as 2 classes and not 5\n",
        "train_y_encoded = (train_y == 4).astype(int)\n",
        "validation_y_encoded = (validation_y == 4).astype(int)\n",
        "test_y_encoded = (test_y == 4).astype(int)"
      ],
      "metadata": {
        "id": "othlW1EwAAda",
        "colab": {
          "base_uri": "https://localhost:8080/"
        },
        "outputId": "953ecc1b-1a6f-494d-b733-51e3291dace5"
      },
      "execution_count": 138,
      "outputs": [
        {
          "output_type": "stream",
          "name": "stdout",
          "text": [
            "Training Set: (409, 10)\n",
            "Validation Set: (136, 10)\n",
            "Test Set: (138, 10)\n"
          ]
        }
      ]
    },
    {
      "cell_type": "markdown",
      "source": [
        "## KNN on Breast Cancer Wisconsin"
      ],
      "metadata": {
        "id": "eJMyhWESO4a3"
      }
    },
    {
      "cell_type": "markdown",
      "source": [
        "Testing on k = 1"
      ],
      "metadata": {
        "id": "rAfXfplu_q2V"
      }
    },
    {
      "cell_type": "code",
      "source": [
        "myK = 1\n",
        "model = KNN(K=myK)\n",
        "\n",
        "model.fit(train_x, train_y_encoded)\n",
        "y_prob, knns = model.predict(test_x)\n",
        "\n",
        "y_pred = np.argmax(y_prob, axis=-1)\n",
        "accuracy = evaluate_acc(test_y_encoded, y_pred)\n",
        "print(f'Accuracy is {accuracy * 100:.2f}%.')"
      ],
      "metadata": {
        "id": "GJjgvu34_pYE",
        "colab": {
          "base_uri": "https://localhost:8080/"
        },
        "outputId": "bad134c2-c1ed-4b0f-ad54-ad51e1ad9882"
      },
      "execution_count": 139,
      "outputs": [
        {
          "output_type": "stream",
          "name": "stdout",
          "text": [
            "Accuracy is 96.38%.\n"
          ]
        }
      ]
    },
    {
      "cell_type": "markdown",
      "source": [
        "### Choosing hyperparameter K in KNN"
      ],
      "metadata": {
        "id": "dNoxLImrBUYC"
      }
    },
    {
      "cell_type": "code",
      "source": [
        "model_choices = []\n",
        "valid_acc = []\n",
        "best_distance_fn = None\n",
        "\n",
        "distance_functions = [euclidean, manhattan]\n",
        "distance_function_names = ['euclidean', 'manhattan']\n",
        "\n",
        "for k in range(1, 11):\n",
        "    for dist_fn, dist_name in zip(distance_functions, distance_function_names):\n",
        "        knn = KNN(K=k, dist_fn=dist_fn)\n",
        "        knn.fit(train_x, train_y_encoded)\n",
        "        y_valid_prob, _ = knn.predict(validation_x)\n",
        "        y_valid_pred = np.argmax(y_valid_prob, axis=1)\n",
        "        accuracy = evaluate_acc(validation_y_encoded, y_valid_pred)\n",
        "\n",
        "        if not valid_acc or accuracy > max(valid_acc):\n",
        "            best_distance_fn = dist_name\n",
        "            best_valid_K = k\n",
        "\n",
        "        model_choices.append((k, dist_name))\n",
        "        valid_acc.append(accuracy)\n",
        "\n",
        "print(f\"Best K found: {best_valid_K} with Distance Function: {best_distance_fn}, Validation Accuracy: {max(valid_acc) * 100:.2f}%\")\n",
        "\n",
        "knn_best = KNN(K=best_valid_K, dist_fn=distance_functions[distance_function_names.index(best_distance_fn)])\n",
        "knn_best.fit(train_x, train_y_encoded)\n",
        "\n",
        "y_test_prob, _ = knn_best.predict(test_x)\n",
        "y_test_pred = np.argmax(y_test_prob, axis=1)\n",
        "test_accuracy = evaluate_acc(test_y_encoded, y_test_pred)\n",
        "print(f\"Test Accuracy with best K = {best_valid_K} and Distance Function: {best_distance_fn}: {test_accuracy * 100:.2f}%\")"
      ],
      "metadata": {
        "id": "jWIz9XTyDNUY",
        "colab": {
          "base_uri": "https://localhost:8080/"
        },
        "outputId": "5aac9af1-3e03-4d95-81f8-9870aee3f506"
      },
      "execution_count": 140,
      "outputs": [
        {
          "output_type": "stream",
          "name": "stdout",
          "text": [
            "Best K found: 9 with Distance Function: euclidean, Validation Accuracy: 97.79%\n",
            "Test Accuracy with best K = 9 and Distance Function: euclidean: 95.65%\n"
          ]
        }
      ]
    },
    {
      "cell_type": "markdown",
      "source": [
        "### ROC (Breast Cancer Wisconsin)"
      ],
      "metadata": {
        "id": "dMq-HI06PMYD"
      }
    },
    {
      "cell_type": "code",
      "source": [
        "y_test_proba = y_test_prob[:, 1]\n",
        "\n",
        "fpr_k, tpr_k, thresholds_k = roc_curve(test_y_encoded, y_test_proba)\n",
        "roc_auc_k = roc_auc_score(test_y_encoded, y_test_proba)\n",
        "\n",
        "plt.figure()\n",
        "plt.plot(fpr_k, tpr_k, \"r-\", lw=2, label=\"AUROC = %0.2f\" % roc_auc_k)\n",
        "plt.plot([0, 1], [0, 1], linestyle=\"--\", lw=1, color='gray')\n",
        "plt.xlabel('False Positive Rate')\n",
        "plt.ylabel('True Positive Rate')\n",
        "plt.title('ROC Curve KNN')\n",
        "plt.legend(loc=\"best\")\n",
        "plt.savefig(\"roc_curve.png\", bbox_inches='tight', dpi=300)\n",
        "plt.show()\n"
      ],
      "metadata": {
        "id": "3iWv6oBMEF3n",
        "colab": {
          "base_uri": "https://localhost:8080/",
          "height": 472
        },
        "outputId": "c15cfb9f-51d4-451b-8f34-78ae83b2aa65"
      },
      "execution_count": 141,
      "outputs": [
        {
          "output_type": "display_data",
          "data": {
            "text/plain": [
              "<Figure size 640x480 with 1 Axes>"
            ],
            "image/png": "[encoded data removed]"
          },
          "metadata": {}
        }
      ]
    },
    {
      "cell_type": "markdown",
      "source": [
        "###DT on Breast Cancer Wisconsin"
      ],
      "metadata": {
        "id": "GEBeyXFWGm-K"
      }
    },
    {
      "cell_type": "code",
      "source": [
        "dt = DecisionTree(max_depth=3, num_classes=2)\n",
        "dt.fit(train_x, train_y_encoded)\n",
        "\n",
        "y_test_pred_probs = dt.predict(test_x)\n",
        "y_test_pred = np.argmax(y_test_pred_probs, axis=1)\n",
        "\n",
        "accuracy = evaluate_acc(test_y_encoded, y_test_pred)\n",
        "print(f'Test Accuracy: {accuracy * 100:.2f}%')"
      ],
      "metadata": {
        "id": "QJqI-uXYuJLW",
        "colab": {
          "base_uri": "https://localhost:8080/"
        },
        "outputId": "f9fb7f6d-8cce-4d82-c8ea-d66952db5f46"
      },
      "execution_count": 142,
      "outputs": [
        {
          "output_type": "stream",
          "name": "stdout",
          "text": [
            "Test Accuracy: 95.65%\n"
          ]
        }
      ]
    },
    {
      "cell_type": "markdown",
      "source": [
        "###Choosing depth and cost function"
      ],
      "metadata": {
        "id": "NWhXnO7zIP6R"
      }
    },
    {
      "cell_type": "code",
      "source": [
        "validation_x = validation.drop(columns=['Class']).values\n",
        "validation_y = validation['Class'].values\n",
        "validation_y_encoded = (validation_y == 4).astype(int)\n",
        "\n",
        "model_choices = []\n",
        "valid_acc = []\n",
        "cost_functions = {\n",
        "    'entropy': cost_entropy,\n",
        "    'gini_index': cost_gini_index\n",
        "}\n",
        "\n",
        "for depth in range(1, 11):\n",
        "    for cost_name, cost_fn in cost_functions.items():\n",
        "        dt = DecisionTree(max_depth=depth, num_classes=2, cost_fn=cost_fn)\n",
        "        dt.fit(train_x, train_y_encoded)\n",
        "\n",
        "        y_valid_pred_probs = dt.predict(validation_x)\n",
        "        y_valid_pred = np.argmax(y_valid_pred_probs, axis=1)\n",
        "\n",
        "        accuracy = np.sum(y_valid_pred == validation_y_encoded) / len(validation_y_encoded)\n",
        "\n",
        "        if not valid_acc or accuracy > max(valid_acc):\n",
        "            best_cost_fn = cost_name\n",
        "            best_max_depth = depth\n",
        "\n",
        "        model_choices.append((depth, cost_name))\n",
        "        valid_acc.append(accuracy)\n",
        "\n",
        "print(f\"Best max_depth found: {best_max_depth} with Cost Function: {best_cost_fn}, Validation Accuracy: {max(valid_acc) * 100:.2f}%\")\n",
        "\n",
        "dt_best = DecisionTree(max_depth=best_max_depth, num_classes=2, cost_fn=cost_functions[best_cost_fn])\n",
        "dt_best.fit(train_x, train_y_encoded)\n",
        "\n",
        "y_test_pred_probs = dt_best.predict(test_x)\n",
        "y_test_pred = np.argmax(y_test_pred_probs, axis=1)\n",
        "test_accuracy = np.sum(y_test_pred == test_y_encoded) / len(test_y_encoded)\n",
        "print(f\"Test Accuracy with best max_depth = {best_max_depth} and Cost Function: {best_cost_fn}: {test_accuracy * 100:.2f}%\")"
      ],
      "metadata": {
        "colab": {
          "base_uri": "https://localhost:8080/"
        },
        "id": "cx_HJIZoIPVP",
        "outputId": "545343fd-5a53-465f-a4fd-8947430ddc3b"
      },
      "execution_count": 143,
      "outputs": [
        {
          "output_type": "stream",
          "name": "stdout",
          "text": [
            "Best max_depth found: 3 with Cost Function: entropy, Validation Accuracy: 95.59%\n",
            "Test Accuracy with best max_depth = 3 and Cost Function: entropy: 94.93%\n"
          ]
        }
      ]
    },
    {
      "cell_type": "markdown",
      "source": [
        "## ROC"
      ],
      "metadata": {
        "id": "uAzDRMKUjh8e"
      }
    },
    {
      "cell_type": "code",
      "source": [
        "y_test_pred_probs = dt_best.predict(test_x)\n",
        "\n",
        "y_test_proba = y_test_pred_probs[:, 1]\n",
        "\n",
        "fpr_d, tpr_d, thresholds_d = roc_curve(test_y_encoded, y_test_proba)\n",
        "roc_auc_d = roc_auc_score(test_y_encoded, y_test_proba)\n",
        "\n",
        "plt.figure()\n",
        "plt.plot(fpr_d, tpr_d, \"b-\", lw=2, label=\"AUROC = %0.2f\" % roc_auc_d)\n",
        "plt.plot([0, 1], [0, 1], linestyle=\"--\", lw=1, color='gray')\n",
        "plt.xlabel('False Positive Rate')\n",
        "plt.ylabel('True Positive Rate')\n",
        "plt.title('ROC Curve for Decision Tree')\n",
        "plt.legend(loc=\"best\")\n",
        "plt.savefig(\"roc_curve_decision_tree.png\", bbox_inches='tight', dpi=300)\n",
        "plt.show()"
      ],
      "metadata": {
        "colab": {
          "base_uri": "https://localhost:8080/",
          "height": 472
        },
        "id": "QPh8030HKPvX",
        "outputId": "f0991ece-714b-4169-e24b-12e38fa40108"
      },
      "execution_count": 144,
      "outputs": [
        {
          "output_type": "display_data",
          "data": {
            "text/plain": [
              "<Figure size 640x480 with 1 Axes>"
            ],
            "image/png": "[encoded data removed]"
          },
          "metadata": {}
        }
      ]
    },
    {
      "cell_type": "markdown",
      "source": [
        "###ROC combined"
      ],
      "metadata": {
        "id": "ske2Eqr3Nw1R"
      }
    },
    {
      "cell_type": "code",
      "source": [
        "plt.figure()\n",
        "plt.plot(fpr_k, tpr_k, \"r-\", lw=2, label=\"AUROC_KNN = %0.2f\" % roc_auc_k)\n",
        "plt.plot([0, 1], [0, 1], linestyle=\"--\", lw=1, color='gray')\n",
        "plt.xlabel('False Positive Rate')\n",
        "plt.ylabel('True Positive Rate')\n",
        "plt.legend(loc=\"best\")\n",
        "plt.savefig(\"roc_curve.png\", bbox_inches='tight', dpi=300)\n",
        "\n",
        "plt.plot(fpr_d, tpr_d, \"b-\", lw=2, label=\"AUROC_DT = %0.2f\" % roc_auc_d)\n",
        "plt.plot([0, 1], [0, 1], linestyle=\"--\", lw=1, color='gray')\n",
        "plt.xlabel('False Positive Rate')\n",
        "plt.ylabel('True Positive Rate')\n",
        "plt.title('ROC Curve')\n",
        "plt.legend(loc=\"best\")\n",
        "plt.show()"
      ],
      "metadata": {
        "colab": {
          "base_uri": "https://localhost:8080/",
          "height": 472
        },
        "id": "aqbT_G_iNxtq",
        "outputId": "69ebfa89-22c8-4b61-fb2f-0482cc51e94e"
      },
      "execution_count": 145,
      "outputs": [
        {
          "output_type": "display_data",
          "data": {
            "text/plain": [
              "<Figure size 640x480 with 1 Axes>"
            ],
            "image/png": "[encoded data removed]"
          },
          "metadata": {}
        }
      ]
    }
  ]
}